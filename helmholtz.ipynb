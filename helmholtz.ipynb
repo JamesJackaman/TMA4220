version https://git-lfs.github.com/spec/v1
oid sha256:a5d88f575bf1038153b40336908406f62ea312d5b58e561ce4a6670912701f0d
size 278426
